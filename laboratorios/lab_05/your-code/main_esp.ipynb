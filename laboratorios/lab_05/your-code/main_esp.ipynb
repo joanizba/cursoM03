{
  "cells": [
    {
      "cell_type": "markdown",
      "metadata": {
        "id": "ELR3tJi4EXhO"
      },
      "source": [
        "# Antes de empezar:\n",
        "- Lee el archivo README.md\n",
        "- Comenta todo lo que puedas y utiliza los recursos en el archivo README.md\n",
        "- ¡Feliz aprendizaje!"
      ]
    },
    {
      "cell_type": "code",
      "execution_count": null,
      "metadata": {
        "id": "UsG9H6AeEXhP"
      },
      "outputs": [],
      "source": [
        "# Import reduce from functools, numpy and pandas\n",
        "from functools import reduce\n",
        "import numpy\n",
        "import pandas"
      ]
    },
    {
      "cell_type": "markdown",
      "metadata": {
        "id": "pSI0ZHz0EXhP"
      },
      "source": [
        "# Desafío 1 - Mapping\n",
        "\n",
        "#### Usaremos la función map para limpiar palabras en un libro.\n",
        "\n",
        "En la siguiente celda, leeremos un archivo de texto que contiene el libro El Profeta de Khalil Gibran."
      ]
    },
    {
      "cell_type": "code",
      "execution_count": 1,
      "metadata": {
        "id": "EpBezXs2EXhQ",
        "outputId": "49a07a33-48ff-4766-f046-850e2a43967e",
        "colab": {
          "base_uri": "https://localhost:8080/",
          "height": 193
        }
      },
      "outputs": [
        {
          "output_type": "error",
          "ename": "FileNotFoundError",
          "evalue": "[Errno 2] No such file or directory: '../data/58585-0.txt'",
          "traceback": [
            "\u001b[0;31m---------------------------------------------------------------------------\u001b[0m",
            "\u001b[0;31mFileNotFoundError\u001b[0m                         Traceback (most recent call last)",
            "\u001b[0;32m<ipython-input-1-51234ee97198>\u001b[0m in \u001b[0;36m<cell line: 4>\u001b[0;34m()\u001b[0m\n\u001b[1;32m      2\u001b[0m \u001b[0;34m\u001b[0m\u001b[0m\n\u001b[1;32m      3\u001b[0m \u001b[0mlocation\u001b[0m \u001b[0;34m=\u001b[0m \u001b[0;34m'../data/58585-0.txt'\u001b[0m\u001b[0;34m\u001b[0m\u001b[0;34m\u001b[0m\u001b[0m\n\u001b[0;32m----> 4\u001b[0;31m \u001b[0;32mwith\u001b[0m \u001b[0mopen\u001b[0m\u001b[0;34m(\u001b[0m\u001b[0mlocation\u001b[0m\u001b[0;34m,\u001b[0m \u001b[0;34m'r'\u001b[0m\u001b[0;34m,\u001b[0m \u001b[0mencoding\u001b[0m\u001b[0;34m=\u001b[0m\u001b[0;34m\"utf8\"\u001b[0m\u001b[0;34m)\u001b[0m \u001b[0;32mas\u001b[0m \u001b[0mf\u001b[0m\u001b[0;34m:\u001b[0m\u001b[0;34m\u001b[0m\u001b[0;34m\u001b[0m\u001b[0m\n\u001b[0m\u001b[1;32m      5\u001b[0m     \u001b[0mprophet\u001b[0m \u001b[0;34m=\u001b[0m \u001b[0mf\u001b[0m\u001b[0;34m.\u001b[0m\u001b[0mread\u001b[0m\u001b[0;34m(\u001b[0m\u001b[0;34m)\u001b[0m\u001b[0;34m.\u001b[0m\u001b[0msplit\u001b[0m\u001b[0;34m(\u001b[0m\u001b[0;34m' '\u001b[0m\u001b[0;34m)\u001b[0m\u001b[0;34m\u001b[0m\u001b[0;34m\u001b[0m\u001b[0m\n",
            "\u001b[0;31mFileNotFoundError\u001b[0m: [Errno 2] No such file or directory: '../data/58585-0.txt'"
          ]
        }
      ],
      "source": [
        "# Corre este codigo:\n",
        "\n",
        "location = '../data/58585-0.txt'\n",
        "with open(location, 'r', encoding=\"utf8\") as f:\n",
        "    prophet = f.read().split(' ')"
      ]
    },
    {
      "cell_type": "code",
      "execution_count": null,
      "metadata": {
        "id": "WAPu95MiEXhQ"
      },
      "outputs": [],
      "source": [
        "len(prophet)"
      ]
    },
    {
      "cell_type": "markdown",
      "metadata": {
        "id": "fv90C0veEXhQ"
      },
      "source": [
        "#### Vamos a eliminar las primeras 568 palabras ya que contienen información sobre el libro pero no son parte del libro en sí.\n",
        "\n",
        "Haz esto eliminando de `prophet` los elementos del 0 al 567 de la lista (también puedes hacer esto manteniendo los elementos del 568 al último elemento)."
      ]
    },
    {
      "cell_type": "code",
      "execution_count": null,
      "metadata": {
        "id": "GUHfLm2EEXhQ"
      },
      "outputs": [],
      "source": [
        "# tu codigo aquí\n",
        "prophet = prophet[568:]\n",
        "prophet"
      ]
    },
    {
      "cell_type": "markdown",
      "metadata": {
        "id": "Tt6ETqqGEXhR"
      },
      "source": [
        "Si revisas las palabras, encontrarás que muchas palabras tienen una referencia adjunta a ellas. Por ejemplo, veamos las palabras del 1 al 10."
      ]
    },
    {
      "cell_type": "code",
      "execution_count": null,
      "metadata": {
        "id": "bRQ1F-fDEXhR"
      },
      "outputs": [],
      "source": [
        "# tu codigo aquí"
      ]
    },
    {
      "cell_type": "markdown",
      "metadata": {
        "id": "vjD99eWvEXhR"
      },
      "source": [
        "#### El siguiente paso es crear una función que eliminará las referencias.\n",
        "\n",
        "Haremos esto dividiendo la cadena en el carácter `{` y manteniendo solo la parte antes de este carácter. Escribe tu función a continuación."
      ]
    },
    {
      "cell_type": "code",
      "execution_count": null,
      "metadata": {
        "id": "GWpiA-tTEXhR"
      },
      "outputs": [],
      "source": [
        "def referencia(x):\n",
        "    '''\n",
        "    Entrada: Una cadena\n",
        "    Salida: La cadena con las referencias eliminadas\n",
        "\n",
        "    Ejemplo:\n",
        "    Entrada: 'the{7}'\n",
        "    Salida: 'the'\n",
        "    '''\n",
        "\n",
        "    # tu código aquí"
      ]
    },
    {
      "cell_type": "markdown",
      "metadata": {
        "id": "Fb3kT-39EXhS"
      },
      "source": [
        "Ahora que tenemos nuestra función, usa la función `map()` para aplicar esta función a nuestro libro, El Profeta. Devuelve la lista resultante a una nueva lista llamada `prophet_reference`."
      ]
    },
    {
      "cell_type": "code",
      "execution_count": null,
      "metadata": {
        "id": "g0dOOL1zEXhS"
      },
      "outputs": [],
      "source": [
        "# tu codigo aquí"
      ]
    },
    {
      "cell_type": "markdown",
      "metadata": {
        "id": "wZF3-DAXEXhS"
      },
      "source": [
        "Otra cosa que podrías haber notado es que algunas palabras contienen un salto de línea. Escribamos una función para dividir esas palabras. Nuestra función devolverá la cadena dividida en el carácter `\\n`. Escribe tu función en la celda de abajo."
      ]
    },
    {
      "cell_type": "code",
      "execution_count": null,
      "metadata": {
        "id": "qEknBTqXEXhS"
      },
      "outputs": [],
      "source": [
        "def salto_de_linea(x):\n",
        "    '''\n",
        "    Entrada: Una cadena\n",
        "    Salida: Una lista de cadenas divididas en el carácter de salto de línea (\\n)\n",
        "\n",
        "    Ejemplo:\n",
        "    Entrada: 'the\\nbeloved'\n",
        "    Salida: ['the', 'beloved']\n",
        "    '''\n",
        "\n",
        "    # tu código aquí"
      ]
    },
    {
      "cell_type": "markdown",
      "metadata": {
        "id": "xp5448TVEXhS"
      },
      "source": [
        "Aplica la función `salto_de_linea` a la lista `prophet_reference`. Nombra la nueva lista `prophet_line`."
      ]
    },
    {
      "cell_type": "code",
      "execution_count": null,
      "metadata": {
        "scrolled": true,
        "id": "y0jLaWwmEXhS"
      },
      "outputs": [],
      "source": [
        "# tu codigo aquí"
      ]
    },
    {
      "cell_type": "markdown",
      "metadata": {
        "id": "5k__D1zaEXhS"
      },
      "source": [
        "Si miras los elementos de `prophet_line`, verás que la función devolvió listas y no cadenas. Nuestra lista ahora es una lista de listas. Aplana la lista usando comprensión de listas. Asigna esta nueva lista a `prophet_flat`."
      ]
    },
    {
      "cell_type": "code",
      "execution_count": null,
      "metadata": {
        "id": "IR5u4lDPEXhS"
      },
      "outputs": [],
      "source": [
        "# tu codigo aquí"
      ]
    },
    {
      "cell_type": "markdown",
      "metadata": {
        "id": "vIu__zKjEXhT"
      },
      "source": [
        "# Desafío 2 - Filtering\n",
        "\n",
        "Al imprimir algunas palabras del libro, vemos que hay palabras que tal vez no queramos conservar si elegimos analizar el corpus de texto. A continuación, se muestra una lista de palabras que nos gustaría eliminar. Crea una función que devuelva falso si contiene una palabra de la lista de palabras especificadas y verdadero de lo contrario."
      ]
    },
    {
      "cell_type": "code",
      "execution_count": null,
      "metadata": {
        "id": "g9aaqteDEXhT"
      },
      "outputs": [],
      "source": [
        "def filtro_palabra(x):\n",
        "    '''\n",
        "    Entrada: Una cadena\n",
        "    Salida: Verdadero si la palabra no está en la lista especificada\n",
        "    y Falso si la palabra está en la lista.\n",
        "\n",
        "    Ejemplo:\n",
        "    lista de palabras = ['and', 'the']\n",
        "    Entrada: 'and'\n",
        "    Salida: FALSE\n",
        "\n",
        "    Entrada: 'John'\n",
        "    Salida: TRUE\n",
        "    '''\n",
        "\n",
        "    lista_palabras = ['and', 'the', 'a', 'an']\n",
        "\n",
        "    # tu código aquí"
      ]
    },
    {
      "cell_type": "markdown",
      "metadata": {
        "id": "e28jKQxHEXhT"
      },
      "source": [
        "Usa la función `filter()` para filtrar las palabras especificadas en la función `filtro_palabra()`. Guarda la lista filtrada en la variable `prophet_filter`.\n"
      ]
    },
    {
      "cell_type": "code",
      "execution_count": null,
      "metadata": {
        "scrolled": true,
        "id": "WfdoehbFEXhT"
      },
      "outputs": [],
      "source": [
        "# tu codigo aquí"
      ]
    },
    {
      "cell_type": "markdown",
      "metadata": {
        "id": "NPjut_mfEXhT"
      },
      "source": [
        "# Desafío extra\n",
        "\n",
        "Reescribe la función `filtro_palabra` de arriba para que no sea sensible a mayúsculas y minúsculas."
      ]
    },
    {
      "cell_type": "code",
      "execution_count": null,
      "metadata": {
        "id": "eHqgcRrkEXhT"
      },
      "outputs": [],
      "source": [
        "def word_filter_case(x):\n",
        "\n",
        "    word_list = ['and', 'the', 'a', 'an']\n",
        "\n",
        "    # your code here"
      ]
    },
    {
      "cell_type": "markdown",
      "metadata": {
        "id": "vlQyrZ8QEXhT"
      },
      "source": [
        "# Desafío 3 - Reducing\n",
        "\n",
        "#### Ahora que hemos limpiado significativamente nuestro corpus de texto, usemos la función `reduce()` para volver a unir las palabras en una cadena larga separada por espacios.\n",
        "\n",
        "Comenzaremos escribiendo una función que toma dos cadenas y las concatena juntas con un espacio entre las dos cadenas.\n"
      ]
    },
    {
      "cell_type": "code",
      "execution_count": null,
      "metadata": {
        "id": "XUCVM3TNEXhT"
      },
      "outputs": [],
      "source": [
        "def concatenar_espacio(a, b):\n",
        "    '''\n",
        "    Entrada: Dos cadenas\n",
        "    Salida: Una única cadena separada por un espacio\n",
        "\n",
        "    Ejemplo:\n",
        "    Entrada: 'John', 'Smith'\n",
        "    Salida: 'John Smith'\n",
        "    '''\n",
        "\n",
        "    # tu código aquí"
      ]
    },
    {
      "cell_type": "code",
      "execution_count": null,
      "metadata": {
        "scrolled": true,
        "id": "Ls3bJ4SQEXhT"
      },
      "outputs": [],
      "source": [
        "# tu código aquí"
      ]
    },
    {
      "cell_type": "markdown",
      "metadata": {
        "id": "nFJSo_4EEXhT"
      },
      "source": [
        "Usa la función de arriba para reducir el corpus de texto en la lista `prophet_filter` a una única cadena. Asigna esta nueva cadena a la variable `prophet_string`."
      ]
    },
    {
      "cell_type": "code",
      "execution_count": null,
      "metadata": {
        "id": "L_Vyf-sREXhT"
      },
      "outputs": [],
      "source": [
        "# tu código aquí"
      ]
    }
  ],
  "metadata": {
    "kernelspec": {
      "display_name": "Python 3 (ipykernel)",
      "language": "python",
      "name": "python3"
    },
    "language_info": {
      "codemirror_mode": {
        "name": "ipython",
        "version": 3
      },
      "file_extension": ".py",
      "mimetype": "text/x-python",
      "name": "python",
      "nbconvert_exporter": "python",
      "pygments_lexer": "ipython3",
      "version": "3.10.12"
    },
    "colab": {
      "provenance": []
    }
  },
  "nbformat": 4,
  "nbformat_minor": 0
}
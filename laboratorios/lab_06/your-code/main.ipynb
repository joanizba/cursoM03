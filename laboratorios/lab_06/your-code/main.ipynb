{
  "cells": [
    {
      "cell_type": "markdown",
      "id": "796c4cab-f527-44a5-9389-503064db97d3",
      "metadata": {
        "id": "796c4cab-f527-44a5-9389-503064db97d3"
      },
      "source": [
        "### 1. Importa el paquete NUMPY bajo el nombre np."
      ]
    },
    {
      "cell_type": "code",
      "execution_count": 1,
      "id": "da9bc7bc-8fce-4c08-ab65-0e748b4e20b5",
      "metadata": {
        "id": "da9bc7bc-8fce-4c08-ab65-0e748b4e20b5"
      },
      "outputs": [],
      "source": [
        "#[tu código aquí]\n",
        "import numpy as np"
      ]
    },
    {
      "cell_type": "markdown",
      "id": "8aa76170-4c90-4f06-8354-baad9d9c72b9",
      "metadata": {
        "id": "8aa76170-4c90-4f06-8354-baad9d9c72b9"
      },
      "source": [
        "### 2. Imprime la versión de NUMPY y la configuración."
      ]
    },
    {
      "cell_type": "code",
      "execution_count": 12,
      "id": "8e259252-c4e3-4d63-8040-c433dfb6151d",
      "metadata": {
        "colab": {
          "base_uri": "https://localhost:8080/",
          "height": 35
        },
        "id": "8e259252-c4e3-4d63-8040-c433dfb6151d",
        "outputId": "8bae0593-88f9-4378-f043-6c61e4b7cda9"
      },
      "outputs": [
        {
          "output_type": "execute_result",
          "data": {
            "text/plain": [
              "'1.26.4'"
            ],
            "application/vnd.google.colaboratory.intrinsic+json": {
              "type": "string"
            }
          },
          "metadata": {},
          "execution_count": 12
        }
      ],
      "source": [
        "#[tu código aquí]\n",
        "version = np.version.full_version\n",
        "version"
      ]
    },
    {
      "cell_type": "markdown",
      "id": "20b221d2-72cb-4ff6-a261-d533794388f9",
      "metadata": {
        "id": "20b221d2-72cb-4ff6-a261-d533794388f9"
      },
      "source": [
        "### 3. Genera un array tridimensional de 2x3x5 con valores aleatorios. Asigna el array a la variable \"a\"\n",
        " Desafío: hay al menos tres maneras fáciles que usan numpy para generar arrays aleatorios. ¿Cuántas formas puedes encontrar?"
      ]
    },
    {
      "cell_type": "code",
      "execution_count": 19,
      "id": "8a7b3ade-201b-4ec3-86a2-3106b76e7404",
      "metadata": {
        "id": "8a7b3ade-201b-4ec3-86a2-3106b76e7404"
      },
      "outputs": [],
      "source": [
        "#[tu código aquí]\n",
        "a = np.random.randint(0, 10, size=(2, 3, 5))\n",
        "a = np.array(a)\n"
      ]
    },
    {
      "cell_type": "markdown",
      "id": "d324538c-51e7-4911-988d-bf8d50555100",
      "metadata": {
        "id": "d324538c-51e7-4911-988d-bf8d50555100"
      },
      "source": [
        "### 4. Imprime a."
      ]
    },
    {
      "cell_type": "code",
      "execution_count": 20,
      "id": "966a98b9-ac9f-4454-bb8a-a16c807bec18",
      "metadata": {
        "colab": {
          "base_uri": "https://localhost:8080/"
        },
        "id": "966a98b9-ac9f-4454-bb8a-a16c807bec18",
        "outputId": "833041e0-3e9d-4dd7-a0fe-9b9118ea3a1f"
      },
      "outputs": [
        {
          "output_type": "execute_result",
          "data": {
            "text/plain": [
              "array([[[1, 8, 4, 0, 6],\n",
              "        [2, 0, 3, 7, 2],\n",
              "        [1, 7, 8, 5, 0]],\n",
              "\n",
              "       [[5, 4, 6, 3, 8],\n",
              "        [7, 9, 8, 4, 8],\n",
              "        [5, 8, 2, 4, 7]]])"
            ]
          },
          "metadata": {},
          "execution_count": 20
        }
      ],
      "source": [
        "#[tu código aquí]\n",
        "a"
      ]
    },
    {
      "cell_type": "markdown",
      "id": "027b2318-b4bf-4a21-ada1-24a1076c6e00",
      "metadata": {
        "id": "027b2318-b4bf-4a21-ada1-24a1076c6e00"
      },
      "source": [
        "### 5. Crea un array tridimensional de 5x2x3 con todos los valores igual a 1.\n",
        "Asigna el array a la variable \"b\""
      ]
    },
    {
      "cell_type": "code",
      "execution_count": 25,
      "id": "5450680b-9ba6-4ce2-8fda-dd4d5948349e",
      "metadata": {
        "id": "5450680b-9ba6-4ce2-8fda-dd4d5948349e"
      },
      "outputs": [],
      "source": [
        "#[tu código aquí]\n",
        "b = np.ones((5, 2, 3))\n",
        "b = np.array(b)"
      ]
    },
    {
      "cell_type": "markdown",
      "id": "c4c6f4b7-d2fc-41b9-8357-3a4cb71d1c67",
      "metadata": {
        "id": "c4c6f4b7-d2fc-41b9-8357-3a4cb71d1c67"
      },
      "source": [
        "### 6. Imprime b."
      ]
    },
    {
      "cell_type": "code",
      "execution_count": 26,
      "id": "98d2bc56-bd2b-4701-adcc-38e5acebd449",
      "metadata": {
        "colab": {
          "base_uri": "https://localhost:8080/"
        },
        "id": "98d2bc56-bd2b-4701-adcc-38e5acebd449",
        "outputId": "b2c74f20-cc7a-4d5e-9950-8846e0d569a1"
      },
      "outputs": [
        {
          "output_type": "execute_result",
          "data": {
            "text/plain": [
              "array([[[1., 1., 1.],\n",
              "        [1., 1., 1.]],\n",
              "\n",
              "       [[1., 1., 1.],\n",
              "        [1., 1., 1.]],\n",
              "\n",
              "       [[1., 1., 1.],\n",
              "        [1., 1., 1.]],\n",
              "\n",
              "       [[1., 1., 1.],\n",
              "        [1., 1., 1.]],\n",
              "\n",
              "       [[1., 1., 1.],\n",
              "        [1., 1., 1.]]])"
            ]
          },
          "metadata": {},
          "execution_count": 26
        }
      ],
      "source": [
        "#[tu código aquí]\n",
        "b"
      ]
    },
    {
      "cell_type": "markdown",
      "id": "35732bd9-d608-4118-b901-1d17a7fbda2f",
      "metadata": {
        "id": "35732bd9-d608-4118-b901-1d17a7fbda2f"
      },
      "source": [
        "### 7. ¿Tienen a y b el mismo tamaño? ¿Cómo lo demuestras en código Python?"
      ]
    },
    {
      "cell_type": "code",
      "execution_count": 27,
      "id": "11446d38-28ac-4e98-9ed6-81992a359c36",
      "metadata": {
        "colab": {
          "base_uri": "https://localhost:8080/"
        },
        "id": "11446d38-28ac-4e98-9ed6-81992a359c36",
        "outputId": "6b258642-6620-4b94-db2f-627dc07963cc"
      },
      "outputs": [
        {
          "output_type": "execute_result",
          "data": {
            "text/plain": [
              "False"
            ]
          },
          "metadata": {},
          "execution_count": 27
        }
      ],
      "source": [
        "#[tu código aquí]\n",
        "len(a) == len(b)\n"
      ]
    },
    {
      "cell_type": "markdown",
      "id": "469b50b4-cba7-43bd-984e-09bb1f730cfc",
      "metadata": {
        "id": "469b50b4-cba7-43bd-984e-09bb1f730cfc"
      },
      "source": [
        "### 8. ¿Es posible sumar a y b? ¿Por qué sí o por qué no?"
      ]
    },
    {
      "cell_type": "code",
      "execution_count": 31,
      "id": "820f2820-7b1d-404a-9e5d-7e0e706ff3f8",
      "metadata": {
        "colab": {
          "base_uri": "https://localhost:8080/",
          "height": 176
        },
        "id": "820f2820-7b1d-404a-9e5d-7e0e706ff3f8",
        "outputId": "3a7241c4-62bf-4be1-d48d-3883f81e16d8"
      },
      "outputs": [
        {
          "output_type": "error",
          "ename": "ValueError",
          "evalue": "operands could not be broadcast together with shapes (2,3,5) (5,2,3) ",
          "traceback": [
            "\u001b[0;31m---------------------------------------------------------------------------\u001b[0m",
            "\u001b[0;31mValueError\u001b[0m                                Traceback (most recent call last)",
            "\u001b[0;32m<ipython-input-31-66d186688228>\u001b[0m in \u001b[0;36m<cell line: 2>\u001b[0;34m()\u001b[0m\n\u001b[1;32m      1\u001b[0m \u001b[0;31m#[tu código aquí]\u001b[0m\u001b[0;34m\u001b[0m\u001b[0;34m\u001b[0m\u001b[0m\n\u001b[0;32m----> 2\u001b[0;31m \u001b[0msuma\u001b[0m \u001b[0;34m=\u001b[0m \u001b[0ma\u001b[0m \u001b[0;34m+\u001b[0m \u001b[0mb\u001b[0m\u001b[0;34m\u001b[0m\u001b[0;34m\u001b[0m\u001b[0m\n\u001b[0m\u001b[1;32m      3\u001b[0m \u001b[0msuma\u001b[0m\u001b[0;34m\u001b[0m\u001b[0;34m\u001b[0m\u001b[0m\n",
            "\u001b[0;31mValueError\u001b[0m: operands could not be broadcast together with shapes (2,3,5) (5,2,3) "
          ]
        }
      ],
      "source": [
        "#[tu código aquí]\n",
        "suma = a + b\n",
        "suma\n",
        "'''\n",
        "porque no te lo permite el broadcasting\n",
        "\n",
        "'''\n"
      ]
    },
    {
      "cell_type": "markdown",
      "id": "2c943733-6b28-4f57-ac85-aba652716272",
      "metadata": {
        "id": "2c943733-6b28-4f57-ac85-aba652716272"
      },
      "source": [
        "### 9. Transpone b para que tenga la misma estructura que a (es decir, se convierta en un array de 2x3x5). Asigna el array transpuesto a la variable \"c\".\n"
      ]
    },
    {
      "cell_type": "code",
      "execution_count": 33,
      "id": "a5f48cbe-7d14-4e0c-af6d-86ba790f0e19",
      "metadata": {
        "colab": {
          "base_uri": "https://localhost:8080/"
        },
        "id": "a5f48cbe-7d14-4e0c-af6d-86ba790f0e19",
        "outputId": "ba786c5f-f069-4c1e-f54d-0cfe2b957a44"
      },
      "outputs": [
        {
          "output_type": "execute_result",
          "data": {
            "text/plain": [
              "array([[[1., 1., 1., 1., 1.],\n",
              "        [1., 1., 1., 1., 1.],\n",
              "        [1., 1., 1., 1., 1.]],\n",
              "\n",
              "       [[1., 1., 1., 1., 1.],\n",
              "        [1., 1., 1., 1., 1.],\n",
              "        [1., 1., 1., 1., 1.]]])"
            ]
          },
          "metadata": {},
          "execution_count": 33
        }
      ],
      "source": [
        "#[tu código aquí]\n",
        "c = b.transpose(1,2,0)\n",
        "c"
      ]
    },
    {
      "cell_type": "markdown",
      "id": "c4ab9191-ac12-4e95-a0f2-e94381cf75d1",
      "metadata": {
        "id": "c4ab9191-ac12-4e95-a0f2-e94381cf75d1"
      },
      "source": [
        "### 10. Intenta sumar a y c. Ahora debería funcionar. Asigna la suma a la variable \"d\". Pero, ¿por qué funciona ahora?"
      ]
    },
    {
      "cell_type": "code",
      "execution_count": 35,
      "id": "6f474536-af96-46e0-b090-0af8a398cba0",
      "metadata": {
        "colab": {
          "base_uri": "https://localhost:8080/"
        },
        "id": "6f474536-af96-46e0-b090-0af8a398cba0",
        "outputId": "2fa8698d-43e4-4761-a2f0-a916f9d12a92"
      },
      "outputs": [
        {
          "output_type": "execute_result",
          "data": {
            "text/plain": [
              "array([[[ 2.,  9.,  5.,  1.,  7.],\n",
              "        [ 3.,  1.,  4.,  8.,  3.],\n",
              "        [ 2.,  8.,  9.,  6.,  1.]],\n",
              "\n",
              "       [[ 6.,  5.,  7.,  4.,  9.],\n",
              "        [ 8., 10.,  9.,  5.,  9.],\n",
              "        [ 6.,  9.,  3.,  5.,  8.]]])"
            ]
          },
          "metadata": {},
          "execution_count": 35
        }
      ],
      "source": [
        "#[tu código aquí]\n",
        "d = a + c\n",
        "d"
      ]
    },
    {
      "cell_type": "markdown",
      "id": "dfb440c5-1559-4fce-9c48-01f4c4ff227a",
      "metadata": {
        "id": "dfb440c5-1559-4fce-9c48-01f4c4ff227a"
      },
      "source": [
        "### 11. Imprime a y d. ¿Notas la diferencia y la relación entre los dos arrays en términos de los valores? Explica."
      ]
    },
    {
      "cell_type": "code",
      "execution_count": 36,
      "id": "612edaaf-50f9-4e82-811a-97002b8df5dd",
      "metadata": {
        "colab": {
          "base_uri": "https://localhost:8080/"
        },
        "id": "612edaaf-50f9-4e82-811a-97002b8df5dd",
        "outputId": "ed1a2e2d-f4e9-4237-89a1-eb231628c95d"
      },
      "outputs": [
        {
          "output_type": "stream",
          "name": "stdout",
          "text": [
            "A [[[1 8 4 0 6]\n",
            "  [2 0 3 7 2]\n",
            "  [1 7 8 5 0]]\n",
            "\n",
            " [[5 4 6 3 8]\n",
            "  [7 9 8 4 8]\n",
            "  [5 8 2 4 7]]]\n",
            "D [[[ 2.  9.  5.  1.  7.]\n",
            "  [ 3.  1.  4.  8.  3.]\n",
            "  [ 2.  8.  9.  6.  1.]]\n",
            "\n",
            " [[ 6.  5.  7.  4.  9.]\n",
            "  [ 8. 10.  9.  5.  9.]\n",
            "  [ 6.  9.  3.  5.  8.]]]\n"
          ]
        }
      ],
      "source": [
        "#[tu código aquí]\n",
        "print('A',a)\n",
        "print('D',d)"
      ]
    },
    {
      "cell_type": "markdown",
      "id": "d7e5e02e-b182-4bde-9a4a-e71050c0c36a",
      "metadata": {
        "id": "d7e5e02e-b182-4bde-9a4a-e71050c0c36a"
      },
      "source": [
        "### 12. Multiplica a y c. Asigna el resultado a e."
      ]
    },
    {
      "cell_type": "code",
      "execution_count": 37,
      "id": "315a4e1f-909c-40ff-952a-a0c43ce1cb5f",
      "metadata": {
        "colab": {
          "base_uri": "https://localhost:8080/"
        },
        "id": "315a4e1f-909c-40ff-952a-a0c43ce1cb5f",
        "outputId": "e3fccee6-3cfb-4185-8ddf-090e3645ab0e"
      },
      "outputs": [
        {
          "output_type": "execute_result",
          "data": {
            "text/plain": [
              "array([[[1., 8., 4., 0., 6.],\n",
              "        [2., 0., 3., 7., 2.],\n",
              "        [1., 7., 8., 5., 0.]],\n",
              "\n",
              "       [[5., 4., 6., 3., 8.],\n",
              "        [7., 9., 8., 4., 8.],\n",
              "        [5., 8., 2., 4., 7.]]])"
            ]
          },
          "metadata": {},
          "execution_count": 37
        }
      ],
      "source": [
        "#[tu código aquí]\n",
        "e = a * c\n",
        "e"
      ]
    },
    {
      "cell_type": "markdown",
      "id": "1c090d3b-d440-4502-a902-a81a44cce009",
      "metadata": {
        "id": "1c090d3b-d440-4502-a902-a81a44cce009"
      },
      "source": [
        "### 13. ¿Es e igual a a? ¿Por qué sí o por qué no?"
      ]
    },
    {
      "cell_type": "code",
      "execution_count": 38,
      "id": "fe47db25-2aa7-40e4-9bcd-cda25d8256a2",
      "metadata": {
        "colab": {
          "base_uri": "https://localhost:8080/"
        },
        "id": "fe47db25-2aa7-40e4-9bcd-cda25d8256a2",
        "outputId": "83a80ec8-258a-48a1-8a90-5723c554b0d5"
      },
      "outputs": [
        {
          "output_type": "execute_result",
          "data": {
            "text/plain": [
              "array([[[ True,  True,  True,  True,  True],\n",
              "        [ True,  True,  True,  True,  True],\n",
              "        [ True,  True,  True,  True,  True]],\n",
              "\n",
              "       [[ True,  True,  True,  True,  True],\n",
              "        [ True,  True,  True,  True,  True],\n",
              "        [ True,  True,  True,  True,  True]]])"
            ]
          },
          "metadata": {},
          "execution_count": 38
        }
      ],
      "source": [
        "#[tu código aquí]\n",
        "is_igual = a == e\n",
        "is_igual"
      ]
    },
    {
      "cell_type": "markdown",
      "id": "da6659a5-a150-4f13-916d-c582e4f5938e",
      "metadata": {
        "id": "da6659a5-a150-4f13-916d-c582e4f5938e"
      },
      "source": [
        "### 14. Identifica los valores máximos, mínimos y medios en d. Asigna esos valores a las variables \"d_max\", \"d_min\" y \"d_mean\"\n"
      ]
    },
    {
      "cell_type": "code",
      "execution_count": 40,
      "id": "febc4cbb-5c93-4ce8-bf9d-61f1be9b0316",
      "metadata": {
        "colab": {
          "base_uri": "https://localhost:8080/"
        },
        "id": "febc4cbb-5c93-4ce8-bf9d-61f1be9b0316",
        "outputId": "0bf7509a-4061-4626-82bb-b8b7167d834b"
      },
      "outputs": [
        {
          "output_type": "stream",
          "name": "stdout",
          "text": [
            "min 1.0\n",
            "max 10.0\n",
            "mean 5.733333333333333\n"
          ]
        }
      ],
      "source": [
        "#[tu código aquí]\n",
        "d_min = np.min(d)\n",
        "print(\"min\",d_min)\n",
        "d_max = np.max(d)\n",
        "print(\"max\",d_max)\n",
        "d_mean = np.mean(d)\n",
        "print(\"mean\",d_mean)"
      ]
    },
    {
      "cell_type": "markdown",
      "id": "87c23af2-9284-402d-b00d-d95789e07335",
      "metadata": {
        "id": "87c23af2-9284-402d-b00d-d95789e07335"
      },
      "source": [
        "### 15. Ahora queremos etiquetar los valores en d. Primero crea un array vacío \"f\" con la misma forma (es decir, 2x3x5) que d usando `np.empty`.\n"
      ]
    },
    {
      "cell_type": "code",
      "execution_count": 44,
      "id": "52467b9c-6254-4c01-8131-9c83888aee4c",
      "metadata": {
        "colab": {
          "base_uri": "https://localhost:8080/"
        },
        "id": "52467b9c-6254-4c01-8131-9c83888aee4c",
        "outputId": "6be19419-9439-4f53-aacf-c6e66c08c5b9"
      },
      "outputs": [
        {
          "output_type": "execute_result",
          "data": {
            "text/plain": [
              "array([[[4.79416779e-310, 0.00000000e+000, 5.51998348e+228,\n",
              "         1.81270497e-152, 3.03061213e-152],\n",
              "        [1.07332141e+200, 4.03235559e+175, 1.69337696e-152,\n",
              "         4.76660077e+180, 5.98736697e+247],\n",
              "        [6.01347002e-154, 9.07682851e+223, 8.79656417e+199,\n",
              "         1.68821153e+195, 2.34783525e+251]],\n",
              "\n",
              "       [[2.31633993e-152, 1.13072643e+277, 1.69592865e-152,\n",
              "         1.44420365e+214, 5.98181094e-154],\n",
              "        [6.01347002e-154, 2.34785706e+251, 5.45391402e-311,\n",
              "         3.21142670e-322, 4.79512574e-310],\n",
              "        [2.42092166e-322, 6.51961367e-310, 6.51961367e-310,\n",
              "         4.79512558e-310, 6.51961367e-310]]])"
            ]
          },
          "metadata": {},
          "execution_count": 44
        }
      ],
      "source": [
        "#[tu código aquí]\n",
        "f = np.empty((2,3,5))\n",
        "f"
      ]
    },
    {
      "cell_type": "markdown",
      "id": "c6c98967-da48-4c10-8569-73ba1c1c6c5a",
      "metadata": {
        "id": "c6c98967-da48-4c10-8569-73ba1c1c6c5a"
      },
      "source": [
        "### 16. Rellena los valores en f. Para cada valor en d, si es mayor que d_min pero menor que d_mean, asigna 25 al valor correspondiente en f.\n",
        "- Si un valor en d es mayor que d_mean pero menor que d_max, asigna 75 al valor correspondiente en f.\n",
        "- Si un valor es igual a d_mean, asigna 50 al valor correspondiente en f.\n",
        "- Asigna 0 al valor correspondiente(s) en f para d_min en d.\n",
        "- Asigna 100 al valor correspondiente(s) en f para d_max en d.\n",
        "- Al final, f debería tener solo los siguientes valores: 0, 25, 50, 75 y 100.\n"
      ]
    },
    {
      "cell_type": "code",
      "execution_count": 45,
      "id": "2e1b4e2b-655f-40e8-8988-de9b24212884",
      "metadata": {
        "colab": {
          "base_uri": "https://localhost:8080/"
        },
        "id": "2e1b4e2b-655f-40e8-8988-de9b24212884",
        "outputId": "03ca1642-c9b5-40bc-fdd5-1dcb4a99e55c"
      },
      "outputs": [
        {
          "output_type": "execute_result",
          "data": {
            "text/plain": [
              "array([[[ 25.,  75.,  25.,   0.,  75.],\n",
              "        [ 25.,   0.,  25.,  75.,  25.],\n",
              "        [ 25.,  75.,  75.,  75.,   0.]],\n",
              "\n",
              "       [[ 75.,  25.,  75.,  25.,  75.],\n",
              "        [ 75., 100.,  75.,  25.,  75.],\n",
              "        [ 75.,  75.,  25.,  25.,  75.]]])"
            ]
          },
          "metadata": {},
          "execution_count": 45
        }
      ],
      "source": [
        "#[tu código aquí]\n",
        "f[(d > d_min) & (d < d_mean)] = 25\n",
        "f[d == d_mean] = 50\n",
        "f[(d > d_mean) & (d < d_max)] = 75\n",
        "f[d == d_min] = 0\n",
        "f[d == d_max] = 100\n",
        "f"
      ]
    },
    {
      "cell_type": "markdown",
      "id": "0543ff88-8dfc-4a11-9d3e-a1f0c8b63e9d",
      "metadata": {
        "id": "0543ff88-8dfc-4a11-9d3e-a1f0c8b63e9d"
      },
      "source": [
        "### 17. Imprime d y f. ¿Tienes el f esperado?\n",
        "Por ejemplo, si tu d es:\n",
        "```python\n",
        "array([[[1.85836099, 1.67064465, 1.62576044, 1.40243961, 1.88454931],\n",
        "        [1.75354326, 1.69403643, 1.36729252, 1.61415071, 1.12104981],\n",
        "        [1.72201435, 1.1862918 , 1.87078449, 1.7726778 , 1.88180042]],\n",
        "       [[1.44747908, 1.31673383, 1.02000951, 1.52218947, 1.97066381],\n",
        "        [1.79129243, 1.74983003, 1.96028037, 1.85166831, 1.65450881],\n",
        "        [1.18068344, 1.9587381 , 1.00656599, 1.93402165, 1.73514584]]])\n",
        "```\n",
        "\n",
        "Tu f debería ser:\n",
        "```python\n",
        "array([[[ 75.,  75.,  75.,  25.,  75.],\n",
        "        [ 75.,  75.,  25.,  25.,  25.],\n",
        "        [ 75.,  25.,  75.,  75.,  75.]],\n",
        "       [[ 25.,  25.,  25.,  25., 100.],\n",
        "        [ 75.,  75.,  75.,  75.,  75.],\n",
        "        [ 25.,  75.,   0.,  75.,  75.]]])\n",
        "```"
      ]
    },
    {
      "cell_type": "code",
      "execution_count": 48,
      "id": "95e1f850-c3bf-4a98-9c76-4b15456bcb6e",
      "metadata": {
        "colab": {
          "base_uri": "https://localhost:8080/"
        },
        "id": "95e1f850-c3bf-4a98-9c76-4b15456bcb6e",
        "outputId": "c1cb4a9b-c15b-4b7c-d7ef-84e703036285"
      },
      "outputs": [
        {
          "output_type": "stream",
          "name": "stdout",
          "text": [
            "d [[[ 2.  9.  5.  1.  7.]\n",
            "  [ 3.  1.  4.  8.  3.]\n",
            "  [ 2.  8.  9.  6.  1.]]\n",
            "\n",
            " [[ 6.  5.  7.  4.  9.]\n",
            "  [ 8. 10.  9.  5.  9.]\n",
            "  [ 6.  9.  3.  5.  8.]]]\n",
            "f [[[ 25.  75.  25.   0.  75.]\n",
            "  [ 25.   0.  25.  75.  25.]\n",
            "  [ 25.  75.  75.  75.   0.]]\n",
            "\n",
            " [[ 75.  25.  75.  25.  75.]\n",
            "  [ 75. 100.  75.  25.  75.]\n",
            "  [ 75.  75.  25.  25.  75.]]]\n"
          ]
        }
      ],
      "source": [
        "#[tu código aquí]\n",
        "print(\"d\",d)\n",
        "print(\"f\",f)\n"
      ]
    },
    {
      "cell_type": "markdown",
      "id": "d30740a5-bd71-4971-b8ae-42922731ba9c",
      "metadata": {
        "id": "d30740a5-bd71-4971-b8ae-42922731ba9c"
      },
      "source": [
        "### 18. Pregunta de bonificación: en lugar de usar números (es decir, 0, 25, 50, 75 y 100), ¿cómo usar valores de cadena  (\"A\", \"B\", \"C\", \"D\" y \"E\") para etiquetar los elementos del array? Esperas el resultado sea:\n",
        "\n",
        "```python\n",
        "array([[[ 'D',  'D',  'D',  'B',  'D'],\n",
        "        [ 'D',  'D',  'B',  'B',  'B'],\n",
        "        [ 'D',  'B',  'D',  'D',  'D']],\n",
        "       [[ 'B',  'B',  'B',  'B',  'E'],\n",
        "        [ 'D',  'D',  'D',  'D',  'D'],\n",
        "        [ 'B',  'D',   'A',  'D', 'D']]])\n",
        "```\n"
      ]
    },
    {
      "cell_type": "code",
      "execution_count": null,
      "id": "e31ee2d4-b0f1-44ee-aa54-0327ff0dfd4e",
      "metadata": {
        "id": "e31ee2d4-b0f1-44ee-aa54-0327ff0dfd4e"
      },
      "outputs": [],
      "source": [
        "#[tu código aquí]\n",
        "f[(d > d_min) & (d < d_mean)] = 25\n",
        "f[d == d_mean] = 50\n",
        "f[(d > d_mean) & (d < d_max)] = 75\n",
        "f[d == d_min] = 0\n",
        "f[d == d_max] = 100"
      ]
    }
  ],
  "metadata": {
    "kernelspec": {
      "display_name": "Python 3 (ipykernel)",
      "language": "python",
      "name": "python3"
    },
    "language_info": {
      "codemirror_mode": {
        "name": "ipython",
        "version": 3
      },
      "file_extension": ".py",
      "mimetype": "text/x-python",
      "name": "python",
      "nbconvert_exporter": "python",
      "pygments_lexer": "ipython3",
      "version": "3.10.12"
    },
    "colab": {
      "provenance": []
    }
  },
  "nbformat": 4,
  "nbformat_minor": 5
}
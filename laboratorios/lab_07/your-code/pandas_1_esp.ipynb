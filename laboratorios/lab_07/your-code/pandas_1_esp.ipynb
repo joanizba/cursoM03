{
  "cells": [
    {
      "cell_type": "markdown",
      "metadata": {
        "id": "9s-Y_EAgxrnv"
      },
      "source": [
        "# Laboratorio de Introducción a Pandas\n",
        "\n",
        "Completa el siguiente conjunto de ejercicios para consolidar tu conocimiento de los fundamentos de Pandas.\n",
        "\n",
        "### 1. Importa Numpy y Pandas y asígnalos los alias `np` y `pd` respectivamente."
      ]
    },
    {
      "cell_type": "code",
      "execution_count": null,
      "metadata": {
        "id": "fFCernF_xrnx"
      },
      "outputs": [],
      "source": [
        "# Tu código aquí"
      ]
    },
    {
      "cell_type": "markdown",
      "metadata": {
        "id": "lkdf9FgUxrnx"
      },
      "source": [
        "### 2. Crea una Serie de Pandas que contenga los elementos de la lista a continuación."
      ]
    },
    {
      "cell_type": "code",
      "execution_count": null,
      "metadata": {
        "id": "EVZbhC-Txrnx"
      },
      "outputs": [],
      "source": [
        "lst = [5.7, 75.2, 74.4, 84.0, 66.5, 66.3, 55.8, 75.7, 29.1, 43.7]"
      ]
    },
    {
      "cell_type": "code",
      "execution_count": null,
      "metadata": {
        "id": "LnL78sW-xrny",
        "outputId": "44efe1fb-0389-4923-924f-471ce6e257ff"
      },
      "outputs": [
        {
          "data": {
            "text/plain": [
              "0     5.7\n",
              "1    75.2\n",
              "2    74.4\n",
              "3    84.0\n",
              "4    66.5\n",
              "5    66.3\n",
              "6    55.8\n",
              "7    75.7\n",
              "8    29.1\n",
              "9    43.7\n",
              "dtype: float64"
            ]
          },
          "execution_count": 3,
          "metadata": {},
          "output_type": "execute_result"
        }
      ],
      "source": [
        "# Tu código aquí"
      ]
    },
    {
      "cell_type": "markdown",
      "metadata": {
        "id": "LvIpED_Hxrny"
      },
      "source": [
        "### 3. Usa la indexación para devolver el tercer valor en la Serie anterior.\n",
        "\n",
        "*Sugerencia: Recuerda que la indexación comienza en 0.*"
      ]
    },
    {
      "cell_type": "code",
      "execution_count": null,
      "metadata": {
        "id": "gFqCGNwdxrny",
        "outputId": "6a8aa2c0-adde-4622-8c9e-695f15b1d209"
      },
      "outputs": [
        {
          "data": {
            "text/plain": [
              "74.4"
            ]
          },
          "execution_count": 4,
          "metadata": {},
          "output_type": "execute_result"
        }
      ],
      "source": [
        "# Tu código aquí"
      ]
    },
    {
      "cell_type": "markdown",
      "metadata": {
        "id": "0CyXUEEwxrny"
      },
      "source": [
        "### 4. Crea un DataFrame de Pandas a partir de la lista de listas a continuación. Cada sublista debe representarse como una fila."
      ]
    },
    {
      "cell_type": "code",
      "execution_count": null,
      "metadata": {
        "id": "mqzEkAOrxrny"
      },
      "outputs": [],
      "source": [
        "b = [[53.1, 95.0, 67.5, 35.0, 78.4],\n",
        "     [61.3, 40.8, 30.8, 37.8, 87.6],\n",
        "     [20.6, 73.2, 44.2, 14.6, 91.8],\n",
        "     [57.4, 0.1, 96.1, 4.2, 69.5],\n",
        "     [83.6, 20.5, 85.4, 22.8, 35.9],\n",
        "     [49.0, 69.0, 0.1, 31.8, 89.1],\n",
        "     [23.3, 40.7, 95.0, 83.8, 26.9],\n",
        "     [27.6, 26.4, 53.8, 88.8, 68.5],\n",
        "     [96.6, 96.4, 53.4, 72.4, 50.1],\n",
        "     [73.7, 39.0, 43.2, 81.6, 34.7]]"
      ]
    },
    {
      "cell_type": "code",
      "execution_count": null,
      "metadata": {
        "id": "oeHPEARMxrnz",
        "outputId": "b5b708bb-4957-439b-9eac-3a7fbd1b0759"
      },
      "outputs": [
        {
          "data": {
            "text/html": [
              "<div>\n",
              "<style scoped>\n",
              "    .dataframe tbody tr th:only-of-type {\n",
              "        vertical-align: middle;\n",
              "    }\n",
              "\n",
              "    .dataframe tbody tr th {\n",
              "        vertical-align: top;\n",
              "    }\n",
              "\n",
              "    .dataframe thead th {\n",
              "        text-align: right;\n",
              "    }\n",
              "</style>\n",
              "<table border=\"1\" class=\"dataframe\">\n",
              "  <thead>\n",
              "    <tr style=\"text-align: right;\">\n",
              "      <th></th>\n",
              "      <th>0</th>\n",
              "      <th>1</th>\n",
              "      <th>2</th>\n",
              "      <th>3</th>\n",
              "      <th>4</th>\n",
              "    </tr>\n",
              "  </thead>\n",
              "  <tbody>\n",
              "    <tr>\n",
              "      <th>0</th>\n",
              "      <td>53.1</td>\n",
              "      <td>95.0</td>\n",
              "      <td>67.5</td>\n",
              "      <td>35.0</td>\n",
              "      <td>78.4</td>\n",
              "    </tr>\n",
              "    <tr>\n",
              "      <th>1</th>\n",
              "      <td>61.3</td>\n",
              "      <td>40.8</td>\n",
              "      <td>30.8</td>\n",
              "      <td>37.8</td>\n",
              "      <td>87.6</td>\n",
              "    </tr>\n",
              "    <tr>\n",
              "      <th>2</th>\n",
              "      <td>20.6</td>\n",
              "      <td>73.2</td>\n",
              "      <td>44.2</td>\n",
              "      <td>14.6</td>\n",
              "      <td>91.8</td>\n",
              "    </tr>\n",
              "    <tr>\n",
              "      <th>3</th>\n",
              "      <td>57.4</td>\n",
              "      <td>0.1</td>\n",
              "      <td>96.1</td>\n",
              "      <td>4.2</td>\n",
              "      <td>69.5</td>\n",
              "    </tr>\n",
              "    <tr>\n",
              "      <th>4</th>\n",
              "      <td>83.6</td>\n",
              "      <td>20.5</td>\n",
              "      <td>85.4</td>\n",
              "      <td>22.8</td>\n",
              "      <td>35.9</td>\n",
              "    </tr>\n",
              "    <tr>\n",
              "      <th>5</th>\n",
              "      <td>49.0</td>\n",
              "      <td>69.0</td>\n",
              "      <td>0.1</td>\n",
              "      <td>31.8</td>\n",
              "      <td>89.1</td>\n",
              "    </tr>\n",
              "    <tr>\n",
              "      <th>6</th>\n",
              "      <td>23.3</td>\n",
              "      <td>40.7</td>\n",
              "      <td>95.0</td>\n",
              "      <td>83.8</td>\n",
              "      <td>26.9</td>\n",
              "    </tr>\n",
              "    <tr>\n",
              "      <th>7</th>\n",
              "      <td>27.6</td>\n",
              "      <td>26.4</td>\n",
              "      <td>53.8</td>\n",
              "      <td>88.8</td>\n",
              "      <td>68.5</td>\n",
              "    </tr>\n",
              "    <tr>\n",
              "      <th>8</th>\n",
              "      <td>96.6</td>\n",
              "      <td>96.4</td>\n",
              "      <td>53.4</td>\n",
              "      <td>72.4</td>\n",
              "      <td>50.1</td>\n",
              "    </tr>\n",
              "    <tr>\n",
              "      <th>9</th>\n",
              "      <td>73.7</td>\n",
              "      <td>39.0</td>\n",
              "      <td>43.2</td>\n",
              "      <td>81.6</td>\n",
              "      <td>34.7</td>\n",
              "    </tr>\n",
              "  </tbody>\n",
              "</table>\n",
              "</div>"
            ],
            "text/plain": [
              "      0     1     2     3     4\n",
              "0  53.1  95.0  67.5  35.0  78.4\n",
              "1  61.3  40.8  30.8  37.8  87.6\n",
              "2  20.6  73.2  44.2  14.6  91.8\n",
              "3  57.4   0.1  96.1   4.2  69.5\n",
              "4  83.6  20.5  85.4  22.8  35.9\n",
              "5  49.0  69.0   0.1  31.8  89.1\n",
              "6  23.3  40.7  95.0  83.8  26.9\n",
              "7  27.6  26.4  53.8  88.8  68.5\n",
              "8  96.6  96.4  53.4  72.4  50.1\n",
              "9  73.7  39.0  43.2  81.6  34.7"
            ]
          },
          "execution_count": 6,
          "metadata": {},
          "output_type": "execute_result"
        }
      ],
      "source": [
        "# Tu código aquí"
      ]
    },
    {
      "cell_type": "markdown",
      "metadata": {
        "id": "SKW88srDxrnz"
      },
      "source": [
        "### 5. Modifica el array sin usar funciones como transpose o reshape para generar el DataFrame que se muestra más adelante"
      ]
    },
    {
      "cell_type": "code",
      "execution_count": null,
      "metadata": {
        "id": "ydXRqOqaxrnz"
      },
      "outputs": [],
      "source": [
        "b = [[53.1, 95.0, 67.5, 35.0, 78.4],\n",
        "     [61.3, 40.8, 30.8, 37.8, 87.6],\n",
        "     [20.6, 73.2, 44.2, 14.6, 91.8],\n",
        "     [57.4, 0.1, 96.1, 4.2, 69.5],\n",
        "     [83.6, 20.5, 85.4, 22.8, 35.9],\n",
        "     [49.0, 69.0, 0.1, 31.8, 89.1],\n",
        "     [23.3, 40.7, 95.0, 83.8, 26.9],\n",
        "     [27.6, 26.4, 53.8, 88.8, 68.5],\n",
        "     [96.6, 96.4, 53.4, 72.4, 50.1],\n",
        "     [73.7, 39.0, 43.2, 81.6, 34.7]]"
      ]
    },
    {
      "cell_type": "code",
      "execution_count": null,
      "metadata": {
        "id": "MZ4iEN0yxrnz",
        "outputId": "e58d1240-35dc-482b-9508-5c45b221f804"
      },
      "outputs": [
        {
          "data": {
            "text/html": [
              "<div>\n",
              "<style scoped>\n",
              "    .dataframe tbody tr th:only-of-type {\n",
              "        vertical-align: middle;\n",
              "    }\n",
              "\n",
              "    .dataframe tbody tr th {\n",
              "        vertical-align: top;\n",
              "    }\n",
              "\n",
              "    .dataframe thead th {\n",
              "        text-align: right;\n",
              "    }\n",
              "</style>\n",
              "<table border=\"1\" class=\"dataframe\">\n",
              "  <thead>\n",
              "    <tr style=\"text-align: right;\">\n",
              "      <th></th>\n",
              "      <th>score_0</th>\n",
              "      <th>score_1</th>\n",
              "      <th>score_2</th>\n",
              "      <th>score_3</th>\n",
              "      <th>score_4</th>\n",
              "      <th>score_5</th>\n",
              "      <th>score_6</th>\n",
              "      <th>score_7</th>\n",
              "      <th>score_8</th>\n",
              "      <th>score_9</th>\n",
              "    </tr>\n",
              "  </thead>\n",
              "  <tbody>\n",
              "    <tr>\n",
              "      <th>0</th>\n",
              "      <td>53.1</td>\n",
              "      <td>61.3</td>\n",
              "      <td>20.6</td>\n",
              "      <td>57.4</td>\n",
              "      <td>83.6</td>\n",
              "      <td>49.0</td>\n",
              "      <td>23.3</td>\n",
              "      <td>27.6</td>\n",
              "      <td>96.6</td>\n",
              "      <td>73.7</td>\n",
              "    </tr>\n",
              "    <tr>\n",
              "      <th>1</th>\n",
              "      <td>95.0</td>\n",
              "      <td>40.8</td>\n",
              "      <td>73.2</td>\n",
              "      <td>0.1</td>\n",
              "      <td>20.5</td>\n",
              "      <td>69.0</td>\n",
              "      <td>40.7</td>\n",
              "      <td>26.4</td>\n",
              "      <td>96.4</td>\n",
              "      <td>39.0</td>\n",
              "    </tr>\n",
              "    <tr>\n",
              "      <th>2</th>\n",
              "      <td>67.5</td>\n",
              "      <td>30.8</td>\n",
              "      <td>44.2</td>\n",
              "      <td>96.1</td>\n",
              "      <td>85.4</td>\n",
              "      <td>0.1</td>\n",
              "      <td>95.0</td>\n",
              "      <td>53.8</td>\n",
              "      <td>53.4</td>\n",
              "      <td>43.2</td>\n",
              "    </tr>\n",
              "    <tr>\n",
              "      <th>3</th>\n",
              "      <td>35.0</td>\n",
              "      <td>37.8</td>\n",
              "      <td>14.6</td>\n",
              "      <td>4.2</td>\n",
              "      <td>22.8</td>\n",
              "      <td>31.8</td>\n",
              "      <td>83.8</td>\n",
              "      <td>88.8</td>\n",
              "      <td>72.4</td>\n",
              "      <td>81.6</td>\n",
              "    </tr>\n",
              "    <tr>\n",
              "      <th>4</th>\n",
              "      <td>78.4</td>\n",
              "      <td>87.6</td>\n",
              "      <td>91.8</td>\n",
              "      <td>69.5</td>\n",
              "      <td>35.9</td>\n",
              "      <td>89.1</td>\n",
              "      <td>26.9</td>\n",
              "      <td>68.5</td>\n",
              "      <td>50.1</td>\n",
              "      <td>34.7</td>\n",
              "    </tr>\n",
              "  </tbody>\n",
              "</table>\n",
              "</div>"
            ],
            "text/plain": [
              "   score_0  score_1  score_2  score_3  score_4  score_5  score_6  score_7  \\\n",
              "0     53.1     61.3     20.6     57.4     83.6     49.0     23.3     27.6   \n",
              "1     95.0     40.8     73.2      0.1     20.5     69.0     40.7     26.4   \n",
              "2     67.5     30.8     44.2     96.1     85.4      0.1     95.0     53.8   \n",
              "3     35.0     37.8     14.6      4.2     22.8     31.8     83.8     88.8   \n",
              "4     78.4     87.6     91.8     69.5     35.9     89.1     26.9     68.5   \n",
              "\n",
              "   score_8  score_9  \n",
              "0     96.6     73.7  \n",
              "1     96.4     39.0  \n",
              "2     53.4     43.2  \n",
              "3     72.4     81.6  \n",
              "4     50.1     34.7  "
            ]
          },
          "execution_count": 8,
          "metadata": {},
          "output_type": "execute_result"
        }
      ],
      "source": [
        "# Tu código aquí"
      ]
    },
    {
      "cell_type": "markdown",
      "metadata": {
        "id": "3SflYwFWxrnz"
      },
      "source": [
        "### 6. Crea un subconjunto de este DataFrame que contenga solo las columnas de Score 1, 3 y 5."
      ]
    },
    {
      "cell_type": "code",
      "execution_count": null,
      "metadata": {
        "id": "-NrzlJ8axrnz",
        "outputId": "3ee820c3-0751-4e48-fe7b-76f15b6d52e5"
      },
      "outputs": [
        {
          "data": {
            "text/html": [
              "<div>\n",
              "<style scoped>\n",
              "    .dataframe tbody tr th:only-of-type {\n",
              "        vertical-align: middle;\n",
              "    }\n",
              "\n",
              "    .dataframe tbody tr th {\n",
              "        vertical-align: top;\n",
              "    }\n",
              "\n",
              "    .dataframe thead th {\n",
              "        text-align: right;\n",
              "    }\n",
              "</style>\n",
              "<table border=\"1\" class=\"dataframe\">\n",
              "  <thead>\n",
              "    <tr style=\"text-align: right;\">\n",
              "      <th></th>\n",
              "      <th>score_1</th>\n",
              "      <th>score_3</th>\n",
              "      <th>score_5</th>\n",
              "    </tr>\n",
              "  </thead>\n",
              "  <tbody>\n",
              "    <tr>\n",
              "      <th>0</th>\n",
              "      <td>61.3</td>\n",
              "      <td>57.4</td>\n",
              "      <td>49.0</td>\n",
              "    </tr>\n",
              "    <tr>\n",
              "      <th>1</th>\n",
              "      <td>40.8</td>\n",
              "      <td>0.1</td>\n",
              "      <td>69.0</td>\n",
              "    </tr>\n",
              "    <tr>\n",
              "      <th>2</th>\n",
              "      <td>30.8</td>\n",
              "      <td>96.1</td>\n",
              "      <td>0.1</td>\n",
              "    </tr>\n",
              "    <tr>\n",
              "      <th>3</th>\n",
              "      <td>37.8</td>\n",
              "      <td>4.2</td>\n",
              "      <td>31.8</td>\n",
              "    </tr>\n",
              "    <tr>\n",
              "      <th>4</th>\n",
              "      <td>87.6</td>\n",
              "      <td>69.5</td>\n",
              "      <td>89.1</td>\n",
              "    </tr>\n",
              "  </tbody>\n",
              "</table>\n",
              "</div>"
            ],
            "text/plain": [
              "   score_1  score_3  score_5\n",
              "0     61.3     57.4     49.0\n",
              "1     40.8      0.1     69.0\n",
              "2     30.8     96.1      0.1\n",
              "3     37.8      4.2     31.8\n",
              "4     87.6     69.5     89.1"
            ]
          },
          "execution_count": 9,
          "metadata": {},
          "output_type": "execute_result"
        }
      ],
      "source": [
        "# Tu código aquí"
      ]
    },
    {
      "cell_type": "markdown",
      "metadata": {
        "id": "6mglBTIUxrnz"
      },
      "source": [
        "### 7. Del DataFrame original, calcula el valor promedio de Score_3."
      ]
    },
    {
      "cell_type": "code",
      "execution_count": null,
      "metadata": {
        "id": "PXN-oeYkxrn0",
        "outputId": "3472886c-a7bb-4830-e3d6-e8e8918a0232"
      },
      "outputs": [
        {
          "data": {
            "text/plain": [
              "45.459999999999994"
            ]
          },
          "execution_count": 10,
          "metadata": {},
          "output_type": "execute_result"
        }
      ],
      "source": [
        "# Tu código aquí"
      ]
    },
    {
      "cell_type": "markdown",
      "metadata": {
        "id": "ne7KKRGkxrn0"
      },
      "source": [
        "### 8. Del DataFrame original, calcula el máximo valor del Score_4."
      ]
    },
    {
      "cell_type": "code",
      "execution_count": null,
      "metadata": {
        "id": "7PWOJ3luxrn0",
        "outputId": "eb1ae4a7-9e9d-46cc-97fd-0688edee024b"
      },
      "outputs": [
        {
          "data": {
            "text/plain": [
              "85.4"
            ]
          },
          "execution_count": 11,
          "metadata": {},
          "output_type": "execute_result"
        }
      ],
      "source": [
        "# Tu código aquí"
      ]
    },
    {
      "cell_type": "markdown",
      "metadata": {
        "id": "QV6dlnYyxrn0"
      },
      "source": [
        "### 9. Del DataFrame original, calcula la media valor del Score_2."
      ]
    },
    {
      "cell_type": "code",
      "execution_count": null,
      "metadata": {
        "id": "ML6lmgL5xrn0",
        "outputId": "420f7968-1dbe-43e9-de43-f412cb66973f"
      },
      "outputs": [
        {
          "data": {
            "text/plain": [
              "44.2"
            ]
          },
          "execution_count": 12,
          "metadata": {},
          "output_type": "execute_result"
        }
      ],
      "source": [
        "# Tu código aquí"
      ]
    },
    {
      "cell_type": "markdown",
      "metadata": {
        "id": "717MGoy7xrn0"
      },
      "source": [
        "### 10. Crea un DataFrame de Pandas a partir del diccionario de pedidos de productos a continuación."
      ]
    },
    {
      "cell_type": "code",
      "execution_count": null,
      "metadata": {
        "id": "2a76PqLtxrn0"
      },
      "outputs": [],
      "source": [
        "orders = {'Description': ['LUNCH BAG APPLE DESIGN',\n",
        "  'SET OF 60 VINTAGE LEAF CAKE CASES ',\n",
        "  'RIBBON REEL STRIPES DESIGN ',\n",
        "  'WORLD WAR 2 GLIDERS ASSTD DESIGNS',\n",
        "  'PLAYING CARDS JUBILEE UNION JACK',\n",
        "  'POPCORN HOLDER',\n",
        "  'BOX OF VINTAGE ALPHABET BLOCKS',\n",
        "  'PARTY BUNTING',\n",
        "  'JAZZ HEARTS ADDRESS BOOK',\n",
        "  'SET OF 4 SANTA PLACE SETTINGS'],\n",
        " 'Quantity': [1, 24, 1, 2880, 2, 7, 1, 4, 10, 48],\n",
        " 'UnitPrice': [1.65, 0.55, 1.65, 0.18, 1.25, 0.85, 11.95, 4.95, 0.19, 1.25],\n",
        " 'Revenue': [1.65, 13.2, 1.65, 518.4, 2.5, 5.95, 11.95, 19.8, 1.9, 60.0]}"
      ]
    },
    {
      "cell_type": "code",
      "execution_count": null,
      "metadata": {
        "id": "r9F5X0xtxrn0",
        "outputId": "75a8c6ec-0658-4c7c-b215-9a685be9b2f6"
      },
      "outputs": [
        {
          "data": {
            "text/html": [
              "<div>\n",
              "<style scoped>\n",
              "    .dataframe tbody tr th:only-of-type {\n",
              "        vertical-align: middle;\n",
              "    }\n",
              "\n",
              "    .dataframe tbody tr th {\n",
              "        vertical-align: top;\n",
              "    }\n",
              "\n",
              "    .dataframe thead th {\n",
              "        text-align: right;\n",
              "    }\n",
              "</style>\n",
              "<table border=\"1\" class=\"dataframe\">\n",
              "  <thead>\n",
              "    <tr style=\"text-align: right;\">\n",
              "      <th></th>\n",
              "      <th>Description</th>\n",
              "      <th>Quantity</th>\n",
              "      <th>UnitPrice</th>\n",
              "      <th>Revenue</th>\n",
              "    </tr>\n",
              "  </thead>\n",
              "  <tbody>\n",
              "    <tr>\n",
              "      <th>0</th>\n",
              "      <td>LUNCH BAG APPLE DESIGN</td>\n",
              "      <td>1</td>\n",
              "      <td>1.65</td>\n",
              "      <td>1.65</td>\n",
              "    </tr>\n",
              "    <tr>\n",
              "      <th>1</th>\n",
              "      <td>SET OF 60 VINTAGE LEAF CAKE CASES</td>\n",
              "      <td>24</td>\n",
              "      <td>0.55</td>\n",
              "      <td>13.20</td>\n",
              "    </tr>\n",
              "    <tr>\n",
              "      <th>2</th>\n",
              "      <td>RIBBON REEL STRIPES DESIGN</td>\n",
              "      <td>1</td>\n",
              "      <td>1.65</td>\n",
              "      <td>1.65</td>\n",
              "    </tr>\n",
              "    <tr>\n",
              "      <th>3</th>\n",
              "      <td>WORLD WAR 2 GLIDERS ASSTD DESIGNS</td>\n",
              "      <td>2880</td>\n",
              "      <td>0.18</td>\n",
              "      <td>518.40</td>\n",
              "    </tr>\n",
              "    <tr>\n",
              "      <th>4</th>\n",
              "      <td>PLAYING CARDS JUBILEE UNION JACK</td>\n",
              "      <td>2</td>\n",
              "      <td>1.25</td>\n",
              "      <td>2.50</td>\n",
              "    </tr>\n",
              "    <tr>\n",
              "      <th>5</th>\n",
              "      <td>POPCORN HOLDER</td>\n",
              "      <td>7</td>\n",
              "      <td>0.85</td>\n",
              "      <td>5.95</td>\n",
              "    </tr>\n",
              "    <tr>\n",
              "      <th>6</th>\n",
              "      <td>BOX OF VINTAGE ALPHABET BLOCKS</td>\n",
              "      <td>1</td>\n",
              "      <td>11.95</td>\n",
              "      <td>11.95</td>\n",
              "    </tr>\n",
              "    <tr>\n",
              "      <th>7</th>\n",
              "      <td>PARTY BUNTING</td>\n",
              "      <td>4</td>\n",
              "      <td>4.95</td>\n",
              "      <td>19.80</td>\n",
              "    </tr>\n",
              "    <tr>\n",
              "      <th>8</th>\n",
              "      <td>JAZZ HEARTS ADDRESS BOOK</td>\n",
              "      <td>10</td>\n",
              "      <td>0.19</td>\n",
              "      <td>1.90</td>\n",
              "    </tr>\n",
              "    <tr>\n",
              "      <th>9</th>\n",
              "      <td>SET OF 4 SANTA PLACE SETTINGS</td>\n",
              "      <td>48</td>\n",
              "      <td>1.25</td>\n",
              "      <td>60.00</td>\n",
              "    </tr>\n",
              "  </tbody>\n",
              "</table>\n",
              "</div>"
            ],
            "text/plain": [
              "                          Description  Quantity  UnitPrice  Revenue\n",
              "0              LUNCH BAG APPLE DESIGN         1       1.65     1.65\n",
              "1  SET OF 60 VINTAGE LEAF CAKE CASES         24       0.55    13.20\n",
              "2         RIBBON REEL STRIPES DESIGN          1       1.65     1.65\n",
              "3   WORLD WAR 2 GLIDERS ASSTD DESIGNS      2880       0.18   518.40\n",
              "4    PLAYING CARDS JUBILEE UNION JACK         2       1.25     2.50\n",
              "5                      POPCORN HOLDER         7       0.85     5.95\n",
              "6      BOX OF VINTAGE ALPHABET BLOCKS         1      11.95    11.95\n",
              "7                       PARTY BUNTING         4       4.95    19.80\n",
              "8            JAZZ HEARTS ADDRESS BOOK        10       0.19     1.90\n",
              "9       SET OF 4 SANTA PLACE SETTINGS        48       1.25    60.00"
            ]
          },
          "execution_count": 14,
          "metadata": {},
          "output_type": "execute_result"
        }
      ],
      "source": [
        "# Tu código aquí"
      ]
    },
    {
      "cell_type": "markdown",
      "metadata": {
        "id": "8zr81uCexrn1"
      },
      "source": [
        "### 11. Calcula la cantidad total pedida y los ingresos generados a partir de estos pedidos."
      ]
    },
    {
      "cell_type": "code",
      "execution_count": null,
      "metadata": {
        "id": "d4VfwOLyxrn1",
        "outputId": "124dd5b2-32d1-4472-82a5-ed4a0ee23318"
      },
      "outputs": [
        {
          "name": "stdout",
          "output_type": "stream",
          "text": [
            "Cantidad total pedida: 2978\n",
            "Ingresos generados: 637.0\n"
          ]
        }
      ],
      "source": [
        "# Tu código aquí"
      ]
    },
    {
      "cell_type": "markdown",
      "metadata": {
        "id": "k-icrrE2xrn1"
      },
      "source": [
        "### 12. Obten los precios del artículo más caro y del más barato pedidos e imprime la diferencia."
      ]
    },
    {
      "cell_type": "code",
      "execution_count": null,
      "metadata": {
        "id": "0mkqPDoBxrn1",
        "outputId": "6b6a7fe5-6853-4567-f1ea-c6bef3a32d21"
      },
      "outputs": [
        {
          "name": "stdout",
          "output_type": "stream",
          "text": [
            "Precio del artículo más caro: 11.95\n",
            "Precio del artículo más barato: 0.18\n",
            "Diferencia de precios: 11.77\n"
          ]
        }
      ],
      "source": [
        "# Tu código aquí"
      ]
    },
    {
      "cell_type": "markdown",
      "metadata": {
        "id": "5_5B5zJWxrn1"
      },
      "source": [
        "## Carguemos otro conjunto de datos para más ejercicios"
      ]
    },
    {
      "cell_type": "code",
      "execution_count": null,
      "metadata": {
        "id": "hRy6bIgSxrn1"
      },
      "outputs": [],
      "source": [
        "# Tu código aquí\n",
        "# Admission_Predict.csv"
      ]
    },
    {
      "cell_type": "markdown",
      "metadata": {
        "id": "3HxQxQpwxrn1"
      },
      "source": [
        "Evaluemos el conjunto de datos mirando la función `head`."
      ]
    },
    {
      "cell_type": "code",
      "execution_count": null,
      "metadata": {
        "id": "XIXi8CBOxrn1",
        "outputId": "3fdb33fe-217f-415c-ac2f-89246df68923"
      },
      "outputs": [
        {
          "data": {
            "text/html": [
              "<div>\n",
              "<style scoped>\n",
              "    .dataframe tbody tr th:only-of-type {\n",
              "        vertical-align: middle;\n",
              "    }\n",
              "\n",
              "    .dataframe tbody tr th {\n",
              "        vertical-align: top;\n",
              "    }\n",
              "\n",
              "    .dataframe thead th {\n",
              "        text-align: right;\n",
              "    }\n",
              "</style>\n",
              "<table border=\"1\" class=\"dataframe\">\n",
              "  <thead>\n",
              "    <tr style=\"text-align: right;\">\n",
              "      <th></th>\n",
              "      <th>Serial No.</th>\n",
              "      <th>GRE Score</th>\n",
              "      <th>TOEFL Score</th>\n",
              "      <th>University Rating</th>\n",
              "      <th>SOP</th>\n",
              "      <th>LOR</th>\n",
              "      <th>CGPA</th>\n",
              "      <th>Research</th>\n",
              "      <th>Chance of Admit</th>\n",
              "    </tr>\n",
              "  </thead>\n",
              "  <tbody>\n",
              "    <tr>\n",
              "      <th>0</th>\n",
              "      <td>1</td>\n",
              "      <td>337</td>\n",
              "      <td>118</td>\n",
              "      <td>4</td>\n",
              "      <td>4.5</td>\n",
              "      <td>4.5</td>\n",
              "      <td>9.65</td>\n",
              "      <td>1</td>\n",
              "      <td>0.92</td>\n",
              "    </tr>\n",
              "    <tr>\n",
              "      <th>1</th>\n",
              "      <td>2</td>\n",
              "      <td>316</td>\n",
              "      <td>104</td>\n",
              "      <td>3</td>\n",
              "      <td>3.0</td>\n",
              "      <td>3.5</td>\n",
              "      <td>8.00</td>\n",
              "      <td>1</td>\n",
              "      <td>0.72</td>\n",
              "    </tr>\n",
              "    <tr>\n",
              "      <th>2</th>\n",
              "      <td>3</td>\n",
              "      <td>322</td>\n",
              "      <td>110</td>\n",
              "      <td>3</td>\n",
              "      <td>3.5</td>\n",
              "      <td>2.5</td>\n",
              "      <td>8.67</td>\n",
              "      <td>1</td>\n",
              "      <td>0.80</td>\n",
              "    </tr>\n",
              "    <tr>\n",
              "      <th>3</th>\n",
              "      <td>4</td>\n",
              "      <td>314</td>\n",
              "      <td>103</td>\n",
              "      <td>2</td>\n",
              "      <td>2.0</td>\n",
              "      <td>3.0</td>\n",
              "      <td>8.21</td>\n",
              "      <td>0</td>\n",
              "      <td>0.65</td>\n",
              "    </tr>\n",
              "    <tr>\n",
              "      <th>4</th>\n",
              "      <td>5</td>\n",
              "      <td>330</td>\n",
              "      <td>115</td>\n",
              "      <td>5</td>\n",
              "      <td>4.5</td>\n",
              "      <td>3.0</td>\n",
              "      <td>9.34</td>\n",
              "      <td>1</td>\n",
              "      <td>0.90</td>\n",
              "    </tr>\n",
              "  </tbody>\n",
              "</table>\n",
              "</div>"
            ],
            "text/plain": [
              "   Serial No.  GRE Score  TOEFL Score  University Rating  SOP  LOR   CGPA  \\\n",
              "0           1        337          118                  4  4.5   4.5  9.65   \n",
              "1           2        316          104                  3  3.0   3.5  8.00   \n",
              "2           3        322          110                  3  3.5   2.5  8.67   \n",
              "3           4        314          103                  2  2.0   3.0  8.21   \n",
              "4           5        330          115                  5  4.5   3.0  9.34   \n",
              "\n",
              "   Research  Chance of Admit   \n",
              "0         1              0.92  \n",
              "1         1              0.72  \n",
              "2         1              0.80  \n",
              "3         0              0.65  \n",
              "4         1              0.90  "
            ]
          },
          "execution_count": 18,
          "metadata": {},
          "output_type": "execute_result"
        }
      ],
      "source": [
        "# Tu código aquí"
      ]
    },
    {
      "cell_type": "markdown",
      "metadata": {
        "id": "L4mcMaJ_xrn1"
      },
      "source": [
        "### 1 - Antes de comenzar a trabajar con este conjunto de datos y evaluar los datos de admisiones de posgrado, verificaremos que no haya datos faltantes en el conjunto de datos. Haz esto en la celda de abajo."
      ]
    },
    {
      "cell_type": "code",
      "execution_count": null,
      "metadata": {
        "id": "aF8VpkDSxrn2",
        "outputId": "2a10ed93-1259-4634-fa3b-7a365161b433"
      },
      "outputs": [
        {
          "name": "stdout",
          "output_type": "stream",
          "text": [
            "<class 'pandas.core.frame.DataFrame'>\n",
            "RangeIndex: 385 entries, 0 to 384\n",
            "Data columns (total 9 columns):\n",
            " #   Column             Non-Null Count  Dtype  \n",
            "---  ------             --------------  -----  \n",
            " 0   Serial No.         385 non-null    int64  \n",
            " 1   GRE Score          385 non-null    int64  \n",
            " 2   TOEFL Score        385 non-null    int64  \n",
            " 3   University Rating  385 non-null    int64  \n",
            " 4   SOP                385 non-null    float64\n",
            " 5   LOR                385 non-null    float64\n",
            " 6   CGPA               385 non-null    float64\n",
            " 7   Research           385 non-null    int64  \n",
            " 8   Chance of Admit    385 non-null    float64\n",
            "dtypes: float64(4), int64(5)\n",
            "memory usage: 27.2 KB\n"
          ]
        }
      ],
      "source": [
        "# Tu código aquí"
      ]
    },
    {
      "cell_type": "markdown",
      "metadata": {
        "id": "gg6K4Q7Zxrn2"
      },
      "source": [
        "###  2 -  Curiosamente, hay una columna que identifica de manera única a los solicitantes. Esta columna es la columna de número de serie. En lugar de tener nuestro propio índice, deberíamos hacer de esta columna nuestro índice. Haz esto en la celda de abajo. Mantén la columna en el marco de datos además de hacerla un índice."
      ]
    },
    {
      "cell_type": "code",
      "execution_count": null,
      "metadata": {
        "id": "FTMqTPkZxrn2",
        "outputId": "a6aa5397-3652-4117-bd8b-57c7a0460556"
      },
      "outputs": [
        {
          "data": {
            "text/html": [
              "<div>\n",
              "<style scoped>\n",
              "    .dataframe tbody tr th:only-of-type {\n",
              "        vertical-align: middle;\n",
              "    }\n",
              "\n",
              "    .dataframe tbody tr th {\n",
              "        vertical-align: top;\n",
              "    }\n",
              "\n",
              "    .dataframe thead th {\n",
              "        text-align: right;\n",
              "    }\n",
              "</style>\n",
              "<table border=\"1\" class=\"dataframe\">\n",
              "  <thead>\n",
              "    <tr style=\"text-align: right;\">\n",
              "      <th></th>\n",
              "      <th>Serial No.</th>\n",
              "      <th>GRE Score</th>\n",
              "      <th>TOEFL Score</th>\n",
              "      <th>University Rating</th>\n",
              "      <th>SOP</th>\n",
              "      <th>LOR</th>\n",
              "      <th>CGPA</th>\n",
              "      <th>Research</th>\n",
              "      <th>Chance of Admit</th>\n",
              "    </tr>\n",
              "    <tr>\n",
              "      <th>Serial No.</th>\n",
              "      <th></th>\n",
              "      <th></th>\n",
              "      <th></th>\n",
              "      <th></th>\n",
              "      <th></th>\n",
              "      <th></th>\n",
              "      <th></th>\n",
              "      <th></th>\n",
              "      <th></th>\n",
              "    </tr>\n",
              "  </thead>\n",
              "  <tbody>\n",
              "    <tr>\n",
              "      <th>1</th>\n",
              "      <td>1</td>\n",
              "      <td>337</td>\n",
              "      <td>118</td>\n",
              "      <td>4</td>\n",
              "      <td>4.5</td>\n",
              "      <td>4.5</td>\n",
              "      <td>9.65</td>\n",
              "      <td>1</td>\n",
              "      <td>0.92</td>\n",
              "    </tr>\n",
              "    <tr>\n",
              "      <th>2</th>\n",
              "      <td>2</td>\n",
              "      <td>316</td>\n",
              "      <td>104</td>\n",
              "      <td>3</td>\n",
              "      <td>3.0</td>\n",
              "      <td>3.5</td>\n",
              "      <td>8.00</td>\n",
              "      <td>1</td>\n",
              "      <td>0.72</td>\n",
              "    </tr>\n",
              "    <tr>\n",
              "      <th>3</th>\n",
              "      <td>3</td>\n",
              "      <td>322</td>\n",
              "      <td>110</td>\n",
              "      <td>3</td>\n",
              "      <td>3.5</td>\n",
              "      <td>2.5</td>\n",
              "      <td>8.67</td>\n",
              "      <td>1</td>\n",
              "      <td>0.80</td>\n",
              "    </tr>\n",
              "    <tr>\n",
              "      <th>4</th>\n",
              "      <td>4</td>\n",
              "      <td>314</td>\n",
              "      <td>103</td>\n",
              "      <td>2</td>\n",
              "      <td>2.0</td>\n",
              "      <td>3.0</td>\n",
              "      <td>8.21</td>\n",
              "      <td>0</td>\n",
              "      <td>0.65</td>\n",
              "    </tr>\n",
              "    <tr>\n",
              "      <th>5</th>\n",
              "      <td>5</td>\n",
              "      <td>330</td>\n",
              "      <td>115</td>\n",
              "      <td>5</td>\n",
              "      <td>4.5</td>\n",
              "      <td>3.0</td>\n",
              "      <td>9.34</td>\n",
              "      <td>1</td>\n",
              "      <td>0.90</td>\n",
              "    </tr>\n",
              "    <tr>\n",
              "      <th>...</th>\n",
              "      <td>...</td>\n",
              "      <td>...</td>\n",
              "      <td>...</td>\n",
              "      <td>...</td>\n",
              "      <td>...</td>\n",
              "      <td>...</td>\n",
              "      <td>...</td>\n",
              "      <td>...</td>\n",
              "      <td>...</td>\n",
              "    </tr>\n",
              "    <tr>\n",
              "      <th>381</th>\n",
              "      <td>381</td>\n",
              "      <td>324</td>\n",
              "      <td>110</td>\n",
              "      <td>3</td>\n",
              "      <td>3.5</td>\n",
              "      <td>3.5</td>\n",
              "      <td>9.04</td>\n",
              "      <td>1</td>\n",
              "      <td>0.82</td>\n",
              "    </tr>\n",
              "    <tr>\n",
              "      <th>382</th>\n",
              "      <td>382</td>\n",
              "      <td>325</td>\n",
              "      <td>107</td>\n",
              "      <td>3</td>\n",
              "      <td>3.0</td>\n",
              "      <td>3.5</td>\n",
              "      <td>9.11</td>\n",
              "      <td>1</td>\n",
              "      <td>0.84</td>\n",
              "    </tr>\n",
              "    <tr>\n",
              "      <th>383</th>\n",
              "      <td>383</td>\n",
              "      <td>330</td>\n",
              "      <td>116</td>\n",
              "      <td>4</td>\n",
              "      <td>5.0</td>\n",
              "      <td>4.5</td>\n",
              "      <td>9.45</td>\n",
              "      <td>1</td>\n",
              "      <td>0.91</td>\n",
              "    </tr>\n",
              "    <tr>\n",
              "      <th>384</th>\n",
              "      <td>384</td>\n",
              "      <td>312</td>\n",
              "      <td>103</td>\n",
              "      <td>3</td>\n",
              "      <td>3.5</td>\n",
              "      <td>4.0</td>\n",
              "      <td>8.78</td>\n",
              "      <td>0</td>\n",
              "      <td>0.67</td>\n",
              "    </tr>\n",
              "    <tr>\n",
              "      <th>385</th>\n",
              "      <td>385</td>\n",
              "      <td>333</td>\n",
              "      <td>117</td>\n",
              "      <td>4</td>\n",
              "      <td>5.0</td>\n",
              "      <td>4.0</td>\n",
              "      <td>9.66</td>\n",
              "      <td>1</td>\n",
              "      <td>0.95</td>\n",
              "    </tr>\n",
              "  </tbody>\n",
              "</table>\n",
              "<p>385 rows × 9 columns</p>\n",
              "</div>"
            ],
            "text/plain": [
              "            Serial No.  GRE Score  TOEFL Score  University Rating  SOP  LOR   \\\n",
              "Serial No.                                                                     \n",
              "1                    1        337          118                  4  4.5   4.5   \n",
              "2                    2        316          104                  3  3.0   3.5   \n",
              "3                    3        322          110                  3  3.5   2.5   \n",
              "4                    4        314          103                  2  2.0   3.0   \n",
              "5                    5        330          115                  5  4.5   3.0   \n",
              "...                ...        ...          ...                ...  ...   ...   \n",
              "381                381        324          110                  3  3.5   3.5   \n",
              "382                382        325          107                  3  3.0   3.5   \n",
              "383                383        330          116                  4  5.0   4.5   \n",
              "384                384        312          103                  3  3.5   4.0   \n",
              "385                385        333          117                  4  5.0   4.0   \n",
              "\n",
              "            CGPA  Research  Chance of Admit   \n",
              "Serial No.                                    \n",
              "1           9.65         1              0.92  \n",
              "2           8.00         1              0.72  \n",
              "3           8.67         1              0.80  \n",
              "4           8.21         0              0.65  \n",
              "5           9.34         1              0.90  \n",
              "...          ...       ...               ...  \n",
              "381         9.04         1              0.82  \n",
              "382         9.11         1              0.84  \n",
              "383         9.45         1              0.91  \n",
              "384         8.78         0              0.67  \n",
              "385         9.66         1              0.95  \n",
              "\n",
              "[385 rows x 9 columns]"
            ]
          },
          "execution_count": 20,
          "metadata": {},
          "output_type": "execute_result"
        }
      ],
      "source": [
        "# Tu código aquí"
      ]
    },
    {
      "cell_type": "markdown",
      "metadata": {
        "id": "33T0oyjVxrn2"
      },
      "source": [
        "Resulta que `GRE Score` y `CGPA` también identifican de manera única los datos. Muestra esto en la celda de abajo."
      ]
    },
    {
      "cell_type": "code",
      "execution_count": null,
      "metadata": {
        "id": "AyWMy5Alxrn2",
        "outputId": "f2757a3c-0cc1-4092-c70d-ff590573b769"
      },
      "outputs": [
        {
          "name": "stdout",
          "output_type": "stream",
          "text": [
            "Hay duplicados en al menos una de las columnas.\n"
          ]
        }
      ],
      "source": [
        "# Tu código aquí"
      ]
    },
    {
      "cell_type": "code",
      "execution_count": null,
      "metadata": {
        "id": "M7d3mdcUxrn2",
        "outputId": "6f5a2be8-e893-4685-ef9c-19bfbd98e745"
      },
      "outputs": [
        {
          "name": "stdout",
          "output_type": "stream",
          "text": [
            "GRE Score y CGPA identifican de manera única los datos.\n"
          ]
        }
      ],
      "source": [
        "# Tu código aquí"
      ]
    },
    {
      "cell_type": "markdown",
      "metadata": {
        "id": "hWXPYne5xrn5"
      },
      "source": [
        "### 3 - En esta parte del laboratorio, nos gustaría probar condiciones complejas en todo el conjunto de datos de una vez. Comencemos encontrando el número de filas donde el CGPA es mayor a 9 y el estudiante ha realizado una investigación."
      ]
    },
    {
      "cell_type": "code",
      "execution_count": null,
      "metadata": {
        "id": "uWyx4SKNxrn5",
        "outputId": "b4c9021d-39e0-42e5-f1af-85a16907ff79"
      },
      "outputs": [
        {
          "data": {
            "text/html": [
              "<div>\n",
              "<style scoped>\n",
              "    .dataframe tbody tr th:only-of-type {\n",
              "        vertical-align: middle;\n",
              "    }\n",
              "\n",
              "    .dataframe tbody tr th {\n",
              "        vertical-align: top;\n",
              "    }\n",
              "\n",
              "    .dataframe thead th {\n",
              "        text-align: right;\n",
              "    }\n",
              "</style>\n",
              "<table border=\"1\" class=\"dataframe\">\n",
              "  <thead>\n",
              "    <tr style=\"text-align: right;\">\n",
              "      <th></th>\n",
              "      <th>Serial No.</th>\n",
              "      <th>GRE Score</th>\n",
              "      <th>TOEFL Score</th>\n",
              "      <th>University Rating</th>\n",
              "      <th>SOP</th>\n",
              "      <th>LOR</th>\n",
              "      <th>CGPA</th>\n",
              "      <th>Research</th>\n",
              "      <th>Chance of Admit</th>\n",
              "    </tr>\n",
              "    <tr>\n",
              "      <th>Serial No.</th>\n",
              "      <th></th>\n",
              "      <th></th>\n",
              "      <th></th>\n",
              "      <th></th>\n",
              "      <th></th>\n",
              "      <th></th>\n",
              "      <th></th>\n",
              "      <th></th>\n",
              "      <th></th>\n",
              "    </tr>\n",
              "  </thead>\n",
              "  <tbody>\n",
              "    <tr>\n",
              "      <th>1</th>\n",
              "      <td>1</td>\n",
              "      <td>337</td>\n",
              "      <td>118</td>\n",
              "      <td>4</td>\n",
              "      <td>4.5</td>\n",
              "      <td>4.5</td>\n",
              "      <td>9.65</td>\n",
              "      <td>1</td>\n",
              "      <td>0.92</td>\n",
              "    </tr>\n",
              "    <tr>\n",
              "      <th>5</th>\n",
              "      <td>5</td>\n",
              "      <td>330</td>\n",
              "      <td>115</td>\n",
              "      <td>5</td>\n",
              "      <td>4.5</td>\n",
              "      <td>3.0</td>\n",
              "      <td>9.34</td>\n",
              "      <td>1</td>\n",
              "      <td>0.90</td>\n",
              "    </tr>\n",
              "    <tr>\n",
              "      <th>11</th>\n",
              "      <td>11</td>\n",
              "      <td>328</td>\n",
              "      <td>112</td>\n",
              "      <td>4</td>\n",
              "      <td>4.0</td>\n",
              "      <td>4.5</td>\n",
              "      <td>9.10</td>\n",
              "      <td>1</td>\n",
              "      <td>0.78</td>\n",
              "    </tr>\n",
              "    <tr>\n",
              "      <th>20</th>\n",
              "      <td>20</td>\n",
              "      <td>328</td>\n",
              "      <td>116</td>\n",
              "      <td>5</td>\n",
              "      <td>5.0</td>\n",
              "      <td>5.0</td>\n",
              "      <td>9.50</td>\n",
              "      <td>1</td>\n",
              "      <td>0.94</td>\n",
              "    </tr>\n",
              "    <tr>\n",
              "      <th>21</th>\n",
              "      <td>21</td>\n",
              "      <td>334</td>\n",
              "      <td>119</td>\n",
              "      <td>5</td>\n",
              "      <td>5.0</td>\n",
              "      <td>4.5</td>\n",
              "      <td>9.70</td>\n",
              "      <td>1</td>\n",
              "      <td>0.95</td>\n",
              "    </tr>\n",
              "  </tbody>\n",
              "</table>\n",
              "</div>"
            ],
            "text/plain": [
              "            Serial No.  GRE Score  TOEFL Score  University Rating  SOP  LOR   \\\n",
              "Serial No.                                                                     \n",
              "1                    1        337          118                  4  4.5   4.5   \n",
              "5                    5        330          115                  5  4.5   3.0   \n",
              "11                  11        328          112                  4  4.0   4.5   \n",
              "20                  20        328          116                  5  5.0   5.0   \n",
              "21                  21        334          119                  5  5.0   4.5   \n",
              "\n",
              "            CGPA  Research  Chance of Admit   \n",
              "Serial No.                                    \n",
              "1           9.65         1              0.92  \n",
              "5           9.34         1              0.90  \n",
              "11          9.10         1              0.78  \n",
              "20          9.50         1              0.94  \n",
              "21          9.70         1              0.95  "
            ]
          },
          "execution_count": 23,
          "metadata": {},
          "output_type": "execute_result"
        }
      ],
      "source": [
        "# Tu código aquí"
      ]
    },
    {
      "cell_type": "markdown",
      "metadata": {
        "id": "qL-EMYppxrn5"
      },
      "source": [
        "### 4 - Ahora devuelve todas las filas donde el CGPA es mayor a 9 y la puntuación SOP es menor a 3.5. Encuentra la probabilidad media de admisión para estos solicitantes."
      ]
    },
    {
      "cell_type": "code",
      "execution_count": null,
      "metadata": {
        "id": "TEeZ4IxExrn5",
        "outputId": "f4105f26-1642-445f-eccc-f0f947297bc1"
      },
      "outputs": [
        {
          "name": "stdout",
          "output_type": "stream",
          "text": [
            "Probabilidad media de admisión para estos solicitantes: 0.8019999999999999\n"
          ]
        }
      ],
      "source": [
        "# Tu código aquí"
      ]
    }
  ],
  "metadata": {
    "kernelspec": {
      "display_name": "Python 3 (ipykernel)",
      "language": "python",
      "name": "python3"
    },
    "language_info": {
      "codemirror_mode": {
        "name": "ipython",
        "version": 3
      },
      "file_extension": ".py",
      "mimetype": "text/x-python",
      "name": "python",
      "nbconvert_exporter": "python",
      "pygments_lexer": "ipython3",
      "version": "3.10.12"
    },
    "toc": {
      "base_numbering": "",
      "nav_menu": {},
      "number_sections": false,
      "sideBar": true,
      "skip_h1_title": false,
      "title_cell": "Table of Contents",
      "title_sidebar": "Contents",
      "toc_cell": false,
      "toc_position": {},
      "toc_section_display": true,
      "toc_window_display": true
    },
    "colab": {
      "provenance": []
    }
  },
  "nbformat": 4,
  "nbformat_minor": 0
}